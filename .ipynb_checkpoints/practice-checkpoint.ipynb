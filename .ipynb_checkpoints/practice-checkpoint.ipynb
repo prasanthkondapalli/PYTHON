{
 "cells": [
  {
   "cell_type": "code",
   "execution_count": 4,
   "id": "7c10c00f",
   "metadata": {},
   "outputs": [],
   "source": [
    "from selenium import webdriver\n",
    "from selenium.webdriver.chrome.service import Service\n",
    "import time\n",
    "from selenium.webdriver.common.by import By\n"
   ]
  },
  {
   "cell_type": "code",
   "execution_count": 5,
   "id": "f29436d8",
   "metadata": {},
   "outputs": [],
   "source": [
    "ser= Service('/home/thrymr/Downloads/chrome downloads/chrome')"
   ]
  },
  {
   "cell_type": "code",
   "execution_count": 7,
   "id": "0982486b",
   "metadata": {},
   "outputs": [],
   "source": [
    "dr= webdriver.Chrome(service=ser)\n",
    "dr.find_element(By.XPATH,\"//input[@name='userName']\").send_keys('7989123735')\n",
    "dr.find_element(By.XPATH,'//input[@id=\"otp_0_9fzy5rqcuyjlh1hlxqc\"]').send_keys('654123')\n",
    "dr.fin"
   ]
  },
  {
   "cell_type": "code",
   "execution_count": null,
   "id": "8a45acbe",
   "metadata": {},
   "outputs": [],
   "source": [
    "\n"
   ]
  },
  {
   "cell_type": "code",
   "execution_count": null,
   "id": "2da5e469",
   "metadata": {},
   "outputs": [],
   "source": []
  },
  {
   "cell_type": "code",
   "execution_count": 8,
   "id": "964af550",
   "metadata": {},
   "outputs": [],
   "source": [
    "def letters(l1):\n",
    "    \n",
    "    \n",
    "    for i in l1:\n",
    "        i=i.lower()\n",
    "        if i=='a':\n",
    "            print(i,' - its a vowel')\n",
    "        elif i==\"e\":\n",
    "            print(i,\" - its a vowel\")\n",
    "        elif i==\"i\":\n",
    "            print(i,\" - its a vowel\")\n",
    "        elif i=='o':\n",
    "            print(i,' - its a vowel')\n",
    "            \n",
    "        elif i==\"u\":\n",
    "            print(i,' - its a vowel')\n",
    "            \n",
    "        else :\n",
    "            print(i,\" - its not a vowel\")\n",
    "            \n",
    "            \n",
    "            \n",
    "    "
   ]
  },
  {
   "cell_type": "code",
   "execution_count": 10,
   "id": "675cb378",
   "metadata": {},
   "outputs": [
    {
     "name": "stdout",
     "output_type": "stream",
     "text": [
      "a  - its a vowel\n",
      "s  - its not a vowel\n",
      "d  - its not a vowel\n",
      "k  - its not a vowel\n",
      "j  - its not a vowel\n",
      "c  - its not a vowel\n",
      "v  - its not a vowel\n",
      "d  - its not a vowel\n",
      "t  - its not a vowel\n",
      "h  - its not a vowel\n"
     ]
    }
   ],
   "source": [
    "letters('asdkjcvdth')"
   ]
  },
  {
   "cell_type": "markdown",
   "id": "39dcbc2d",
   "metadata": {},
   "source": [
    "tagIds\n",
    ": \n",
    "[\"61927a22f753137fa724a1cb\", \"61927b63f753137fa724b7cb\", \"61927b63f753137fa724b7cc\",…]\n",
    "0\n",
    ": \n",
    "\"61927a22f753137fa724a1cb\"\n",
    "1\n",
    ": \n",
    "\"61927b63f753137fa724b7cb\"\n",
    "2\n",
    ": \n",
    "\"61927b63f753137fa724b7cc\"\n",
    "3\n",
    ": \n",
    "\"61927b64f753137fa724b7cd\"\n",
    "4\n",
    ": \n",
    "\"61927b67f753137fa724b7de\""
   ]
  },
  {
   "cell_type": "markdown",
   "id": "5d027e25",
   "metadata": {},
   "source": [
    "tags\n",
    ": \n",
    "[{id: \"61927a22f753137fa724a1cb\", tagName: \"CBSE\", tagType: \"STREAM\", isActive: true,…},…]\n",
    "0\n",
    ": \n",
    "{id: \"61927a22f753137fa724a1cb\", tagName: \"CBSE\", tagType: \"STREAM\", isActive: true,…}\n",
    "1\n",
    ": \n",
    "{id: \"61927b63f753137fa724b7cb\", tagName: \"Grade 1\", tagType: \"GRADE\", isActive: true,…}\n",
    "2\n",
    ": \n",
    "{id: \"61927b63f753137fa724b7cc\", tagName: \"Mathematics\", tagType: \"SUBJECT\", isActive: true,…}\n",
    "3\n",
    ": \n",
    "{id: \"61927b64f753137fa724b7cd\", tagName: \"Section I\", tagType: \"TOPIC\", isActive: true,…}\n",
    "4\n",
    ": \n",
    "{id: \"61927b67f753137fa724b7de\", tagName: \"Addition\", tagType: \"CHAPTER\", isActive: true,…}"
   ]
  },
  {
   "cell_type": "code",
   "execution_count": 1,
   "id": "229173a9",
   "metadata": {},
   "outputs": [],
   "source": [
    "#calling a complete row from the DF\n",
    "def give_id(id_1):\n",
    "    import pandas as pd\n",
    "    df= pd.read_csv(\"/home/thrymr/Prashanth_Learning's/python/dummy.csv\")\n",
    "    for i in id_1:\n",
    "        print (i)\n",
    "        df=pd.DataFrame(df)\n",
    "        ind =[]\n",
    "        ind = df.index[df['id']==i].to_list()\n",
    "        ind=list(ind)\n",
    "        #print(id_1)\n",
    "        #print(ind)\n",
    "        x = df.iloc[ind]\n",
    "        return (x)"
   ]
  },
  {
   "cell_type": "code",
   "execution_count": 2,
   "id": "e0dbb60e",
   "metadata": {},
   "outputs": [
    {
     "name": "stdout",
     "output_type": "stream",
     "text": [
      "998484\n"
     ]
    },
    {
     "data": {
      "text/html": [
       "<div>\n",
       "<style scoped>\n",
       "    .dataframe tbody tr th:only-of-type {\n",
       "        vertical-align: middle;\n",
       "    }\n",
       "\n",
       "    .dataframe tbody tr th {\n",
       "        vertical-align: top;\n",
       "    }\n",
       "\n",
       "    .dataframe thead th {\n",
       "        text-align: right;\n",
       "    }\n",
       "</style>\n",
       "<table border=\"1\" class=\"dataframe\">\n",
       "  <thead>\n",
       "    <tr style=\"text-align: right;\">\n",
       "      <th></th>\n",
       "      <th>id</th>\n",
       "      <th>diagnosis (Target)</th>\n",
       "      <th>radius_mean</th>\n",
       "      <th>texture_mean</th>\n",
       "      <th>perimeter_mean</th>\n",
       "      <th>area_mean</th>\n",
       "      <th>smoothness_mean</th>\n",
       "      <th>compactness_mean</th>\n",
       "      <th>concavity_mean</th>\n",
       "      <th>points_mean</th>\n",
       "      <th>...</th>\n",
       "      <th>radius_worst</th>\n",
       "      <th>texture_worst</th>\n",
       "      <th>perimeter_worst</th>\n",
       "      <th>area_worst</th>\n",
       "      <th>smoothness_worst</th>\n",
       "      <th>compactness_worst</th>\n",
       "      <th>concavity_worst</th>\n",
       "      <th>points_worst</th>\n",
       "      <th>symmetry_worst</th>\n",
       "      <th>dimension_worst</th>\n",
       "    </tr>\n",
       "  </thead>\n",
       "  <tbody>\n",
       "  </tbody>\n",
       "</table>\n",
       "<p>0 rows × 32 columns</p>\n",
       "</div>"
      ],
      "text/plain": [
       "Empty DataFrame\n",
       "Columns: [id, diagnosis (Target), radius_mean, texture_mean, perimeter_mean, area_mean, smoothness_mean, compactness_mean, concavity_mean, points_mean, symmetry_mean, dimension_mean, radius_se, texture_se, perimeter_se, area_se, smoothness_se, compactness_se, concavity_se, points_se, symmetry_se, dimension_se, radius_worst, texture_worst, perimeter_worst, area_worst, smoothness_worst, compactness_worst, concavity_worst, points_worst, symmetry_worst, dimension_worst]\n",
       "Index: []\n",
       "\n",
       "[0 rows x 32 columns]"
      ]
     },
     "execution_count": 2,
     "metadata": {},
     "output_type": "execute_result"
    }
   ],
   "source": [
    "give_id([998484])"
   ]
  },
  {
   "cell_type": "code",
   "execution_count": 5,
   "id": "fdfef897",
   "metadata": {},
   "outputs": [],
   "source": [
    "df = pd.DataFrame({'Image_id' : [1091, 1091, 234, 334, 334],'caption' :['butterfly in sky',\n",
    "                                                                       'butterfly in air',\n",
    "                                                                       'bread and jam',\n",
    "                                                                       'bike rider',\n",
    "                                                                       'person riding a bike']})"
   ]
  },
  {
   "cell_type": "code",
   "execution_count": 4,
   "id": "2dcd8da3",
   "metadata": {},
   "outputs": [],
   "source": [
    "import pandas as pd"
   ]
  },
  {
   "cell_type": "code",
   "execution_count": 6,
   "id": "f0a14dbb",
   "metadata": {},
   "outputs": [
    {
     "data": {
      "text/html": [
       "<div>\n",
       "<style scoped>\n",
       "    .dataframe tbody tr th:only-of-type {\n",
       "        vertical-align: middle;\n",
       "    }\n",
       "\n",
       "    .dataframe tbody tr th {\n",
       "        vertical-align: top;\n",
       "    }\n",
       "\n",
       "    .dataframe thead th {\n",
       "        text-align: right;\n",
       "    }\n",
       "</style>\n",
       "<table border=\"1\" class=\"dataframe\">\n",
       "  <thead>\n",
       "    <tr style=\"text-align: right;\">\n",
       "      <th></th>\n",
       "      <th>Image_id</th>\n",
       "      <th>caption</th>\n",
       "    </tr>\n",
       "  </thead>\n",
       "  <tbody>\n",
       "    <tr>\n",
       "      <th>0</th>\n",
       "      <td>1091</td>\n",
       "      <td>butterfly in sky</td>\n",
       "    </tr>\n",
       "    <tr>\n",
       "      <th>1</th>\n",
       "      <td>1091</td>\n",
       "      <td>butterfly in air</td>\n",
       "    </tr>\n",
       "    <tr>\n",
       "      <th>2</th>\n",
       "      <td>234</td>\n",
       "      <td>bread and jam</td>\n",
       "    </tr>\n",
       "    <tr>\n",
       "      <th>3</th>\n",
       "      <td>334</td>\n",
       "      <td>bike rider</td>\n",
       "    </tr>\n",
       "    <tr>\n",
       "      <th>4</th>\n",
       "      <td>334</td>\n",
       "      <td>person riding a bike</td>\n",
       "    </tr>\n",
       "  </tbody>\n",
       "</table>\n",
       "</div>"
      ],
      "text/plain": [
       "   Image_id               caption\n",
       "0      1091      butterfly in sky\n",
       "1      1091      butterfly in air\n",
       "2       234         bread and jam\n",
       "3       334            bike rider\n",
       "4       334  person riding a bike"
      ]
     },
     "execution_count": 6,
     "metadata": {},
     "output_type": "execute_result"
    }
   ],
   "source": [
    "df"
   ]
  },
  {
   "cell_type": "code",
   "execution_count": null,
   "id": "f9d228df",
   "metadata": {},
   "outputs": [],
   "source": []
  }
 ],
 "metadata": {
  "kernelspec": {
   "display_name": "Python 3 (ipykernel)",
   "language": "python",
   "name": "python3"
  },
  "language_info": {
   "codemirror_mode": {
    "name": "ipython",
    "version": 3
   },
   "file_extension": ".py",
   "mimetype": "text/x-python",
   "name": "python",
   "nbconvert_exporter": "python",
   "pygments_lexer": "ipython3",
   "version": "3.9.13"
  }
 },
 "nbformat": 4,
 "nbformat_minor": 5
}

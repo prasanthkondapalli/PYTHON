{
 "cells": [
  {
   "cell_type": "code",
   "execution_count": 4,
   "id": "7c10c00f",
   "metadata": {},
   "outputs": [],
   "source": [
    "from selenium import webdriver\n",
    "from selenium.webdriver.chrome.service import Service\n",
    "import time\n",
    "from selenium.webdriver.common.by import By\n"
   ]
  },
  {
   "cell_type": "code",
   "execution_count": 5,
   "id": "f29436d8",
   "metadata": {},
   "outputs": [],
   "source": [
    "ser= Service('/home/thrymr/Downloads/chrome downloads/chrome')"
   ]
  },
  {
   "cell_type": "code",
   "execution_count": 7,
   "id": "0982486b",
   "metadata": {},
   "outputs": [],
   "source": [
    "dr= webdriver.Chrome(service=ser)\n",
    "dr.find_element(By.XPATH,\"//input[@name='userName']\").send_keys('7989123735')\n",
    "dr.find_element(By.XPATH,'//input[@id=\"otp_0_9fzy5rqcuyjlh1hlxqc\"]').send_keys('654123')\n",
    "dr.fin"
   ]
  },
  {
   "cell_type": "code",
   "execution_count": null,
   "id": "8a45acbe",
   "metadata": {},
   "outputs": [],
   "source": []
  }
 ],
 "metadata": {
  "kernelspec": {
   "display_name": "Python 3 (ipykernel)",
   "language": "python",
   "name": "python3"
  },
  "language_info": {
   "codemirror_mode": {
    "name": "ipython",
    "version": 3
   },
   "file_extension": ".py",
   "mimetype": "text/x-python",
   "name": "python",
   "nbconvert_exporter": "python",
   "pygments_lexer": "ipython3",
   "version": "3.9.13"
  }
 },
 "nbformat": 4,
 "nbformat_minor": 5
}

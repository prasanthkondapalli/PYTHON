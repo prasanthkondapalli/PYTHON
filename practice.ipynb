{
 "cells": [
  {
   "cell_type": "code",
   "execution_count": 4,
   "id": "7c10c00f",
   "metadata": {},
   "outputs": [],
   "source": [
    "from selenium import webdriver\n",
    "from selenium.webdriver.chrome.service import Service\n",
    "import time\n",
    "from selenium.webdriver.common.by import By\n"
   ]
  },
  {
   "cell_type": "code",
   "execution_count": 5,
   "id": "f29436d8",
   "metadata": {},
   "outputs": [],
   "source": [
    "ser= Service('/home/thrymr/Downloads/chrome downloads/chrome')"
   ]
  },
  {
   "cell_type": "code",
   "execution_count": 7,
   "id": "0982486b",
   "metadata": {},
   "outputs": [],
   "source": [
    "dr= webdriver.Chrome(service=ser)\n",
    "dr.find_element(By.XPATH,\"//input[@name='userName']\").send_keys('7989123735')\n",
    "dr.find_element(By.XPATH,'//input[@id=\"otp_0_9fzy5rqcuyjlh1hlxqc\"]').send_keys('654123')\n",
    "dr.fin"
   ]
  },
  {
   "cell_type": "code",
   "execution_count": null,
   "id": "8a45acbe",
   "metadata": {},
   "outputs": [],
   "source": [
    "\n"
   ]
  },
  {
   "cell_type": "code",
   "execution_count": null,
   "id": "2da5e469",
   "metadata": {},
   "outputs": [],
   "source": []
  },
  {
   "cell_type": "code",
   "execution_count": 8,
   "id": "964af550",
   "metadata": {},
   "outputs": [],
   "source": [
    "def letters(l1):\n",
    "    \n",
    "    \n",
    "    for i in l1:\n",
    "        i=i.lower()\n",
    "        if i=='a':\n",
    "            print(i,' - its a vowel')\n",
    "        elif i==\"e\":\n",
    "            print(i,\" - its a vowel\")\n",
    "        elif i==\"i\":\n",
    "            print(i,\" - its a vowel\")\n",
    "        elif i=='o':\n",
    "            print(i,' - its a vowel')\n",
    "            \n",
    "        elif i==\"u\":\n",
    "            print(i,' - its a vowel')\n",
    "            \n",
    "        else :\n",
    "            print(i,\" - its not a vowel\")\n",
    "            \n",
    "            \n",
    "            \n",
    "    "
   ]
  },
  {
   "cell_type": "code",
   "execution_count": 10,
   "id": "675cb378",
   "metadata": {},
   "outputs": [
    {
     "name": "stdout",
     "output_type": "stream",
     "text": [
      "a  - its a vowel\n",
      "s  - its not a vowel\n",
      "d  - its not a vowel\n",
      "k  - its not a vowel\n",
      "j  - its not a vowel\n",
      "c  - its not a vowel\n",
      "v  - its not a vowel\n",
      "d  - its not a vowel\n",
      "t  - its not a vowel\n",
      "h  - its not a vowel\n"
     ]
    }
   ],
   "source": [
    "letters('asdkjcvdth')"
   ]
  },
  {
   "cell_type": "code",
   "execution_count": null,
   "id": "d0c1dc60",
   "metadata": {},
   "outputs": [],
   "source": []
  }
 ],
 "metadata": {
  "kernelspec": {
   "display_name": "Python 3 (ipykernel)",
   "language": "python",
   "name": "python3"
  },
  "language_info": {
   "codemirror_mode": {
    "name": "ipython",
    "version": 3
   },
   "file_extension": ".py",
   "mimetype": "text/x-python",
   "name": "python",
   "nbconvert_exporter": "python",
   "pygments_lexer": "ipython3",
   "version": "3.9.13"
  }
 },
 "nbformat": 4,
 "nbformat_minor": 5
}
